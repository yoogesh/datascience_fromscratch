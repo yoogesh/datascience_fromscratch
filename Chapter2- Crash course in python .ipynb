{
 "cells": [
  {
   "cell_type": "code",
   "execution_count": 2,
   "metadata": {},
   "outputs": [
    {
     "name": "stdout",
     "output_type": "stream",
     "text": [
      "1\n",
      "5\n",
      "6\n",
      "7\n",
      "1\n",
      "2\n",
      "6\n",
      "7\n",
      "8\n",
      "2\n",
      "3\n",
      "7\n",
      "8\n",
      "9\n",
      "3\n"
     ]
    }
   ],
   "source": [
    "# basic looping \n",
    "# Whitespaces in brackets doens't count \n",
    "for i in [1,2,3]:\n",
    "    print (i)\n",
    "    for j in [4, 5, 6]:\n",
    "        print (i + j)\n",
    "    print (i )\n"
   ]
  },
  {
   "cell_type": "code",
   "execution_count": 4,
   "metadata": {},
   "outputs": [
    {
     "name": "stdout",
     "output_type": "stream",
     "text": [
      "5\n"
     ]
    }
   ],
   "source": [
    "# use blackslash to indicate that the statement continues on the next line \n",
    "a = 2 + \\\n",
    "3\n",
    "print(a)"
   ]
  },
  {
   "cell_type": "code",
   "execution_count": 7,
   "metadata": {},
   "outputs": [],
   "source": [
    "# use import statements to import modules\n",
    "import re as r \n",
    "# use r to invoke the functions  "
   ]
  },
  {
   "cell_type": "code",
   "execution_count": 8,
   "metadata": {},
   "outputs": [
    {
     "name": "stdout",
     "output_type": "stream",
     "text": [
      "2.5\n"
     ]
    }
   ],
   "source": [
    "a = 5 \n",
    "b = 2\n",
    "print(a / b)"
   ]
  },
  {
   "cell_type": "code",
   "execution_count": 13,
   "metadata": {},
   "outputs": [
    {
     "name": "stdout",
     "output_type": "stream",
     "text": [
      "2\n"
     ]
    }
   ],
   "source": [
    "# we define functions in python using def keyword followed by the function name\n",
    "\n",
    "def double(x, default_arg = \"my new message\"): # you can also define default arguments\n",
    "    \"\"\"\n",
    "    This is an doc string - you can use it to define what the function does - it multiplies the input by 2\n",
    "    \"\"\"\n",
    "    return x * 2\n",
    "# these functions are called first class which means we can assign them to variables and pass them into variables\n",
    "\n",
    "myval = double\n",
    "print(myval(1))\n"
   ]
  },
  {
   "cell_type": "code",
   "execution_count": 16,
   "metadata": {},
   "outputs": [
    {
     "name": "stdout",
     "output_type": "stream",
     "text": [
      "single quotes double quotes\n",
      "1\n",
      "2\n"
     ]
    }
   ],
   "source": [
    "# strings \n",
    "s1 = 'single quotes'\n",
    "s2 = \"double quotes\"\n",
    "print(s1, s2)\n",
    "\n",
    "s3 = '\\t'\n",
    "print(len(s3))\n",
    "s4 =r'\\t' # append with r to use it as a raw string - like the windows path\n",
    "print(len(s4))"
   ]
  },
  {
   "cell_type": "code",
   "execution_count": 17,
   "metadata": {},
   "outputs": [
    {
     "name": "stdout",
     "output_type": "stream",
     "text": [
      "Cannot divide by zero - Exception block\n"
     ]
    }
   ],
   "source": [
    "# exception handling\n",
    "try:\n",
    "    print(0/0)\n",
    "except ZeroDivisionError:\n",
    "    print(\"Cannot divide by zero - Exception block\")"
   ]
  },
  {
   "cell_type": "code",
   "execution_count": null,
   "metadata": {},
   "outputs": [],
   "source": [
    "# Lists \n"
   ]
  }
 ],
 "metadata": {
  "kernelspec": {
   "display_name": "Python 3",
   "language": "python",
   "name": "python3"
  },
  "language_info": {
   "codemirror_mode": {
    "name": "ipython",
    "version": 3
   },
   "file_extension": ".py",
   "mimetype": "text/x-python",
   "name": "python",
   "nbconvert_exporter": "python",
   "pygments_lexer": "ipython3",
   "version": "3.7.4"
  }
 },
 "nbformat": 4,
 "nbformat_minor": 2
}
